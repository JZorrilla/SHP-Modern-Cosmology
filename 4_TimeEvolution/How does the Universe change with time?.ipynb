{
 "cells": [
  {
   "cell_type": "code",
   "execution_count": 2,
   "metadata": {
    "collapsed": true
   },
   "outputs": [],
   "source": [
    "import numpy as np\n",
    "import matplotlib\n",
    "import matplotlib.pyplot as plt\n",
    "%matplotlib inline\n",
    "from IPython.display import HTML, Image, display"
   ]
  },
  {
   "cell_type": "markdown",
   "metadata": {},
   "source": [
    "# 1. Mechanics on curved spaces: the geodesic equation"
   ]
  },
  {
   "cell_type": "markdown",
   "metadata": {},
   "source": [
    "### Exercise: "
   ]
  },
  {
   "cell_type": "markdown",
   "metadata": {},
   "source": [
    "Solve the the movement of a free particle, analytically, in polar coordinates [~10 min]"
   ]
  },
  {
   "cell_type": "markdown",
   "metadata": {},
   "source": [
    "- Why don't they keep the simple form: \n",
    "\n",
    "    $\\frac{d^2 q^i}{dt^2} = 0$?"
   ]
  },
  {
   "cell_type": "markdown",
   "metadata": {},
   "source": [
    "Derivation of geodesic equation in general:\n",
    "\n",
    "$\\frac{d^2x^i}{dt^2} = \\frac{d}{dt}\\left( \\frac{dx^i}{dt} \\right) = \n",
    "\\frac{d}{dt}\\left( \\frac{\\partial x^i}{\\partial \\chi^j} \\frac{d \\chi^j}{dt} \\right) = \n",
    "\\frac{d}{dt}\\left( \\frac{\\partial x^i}{\\partial \\chi^j} \\right) \\frac{d \\chi^j}{dt} + \\frac{\\partial x^i}{\\partial \\chi^j} \\frac{d}{dt}\\left( \\frac{d \\chi^j}{dt} \\right)  =\n",
    "\\frac{\\partial}{\\partial \\chi^j}\\left( \\frac{d x^i}{dt} \\right) \\frac{d \\chi^j}{dt} + \\frac{\\partial x^i}{\\partial \\chi^j} \\frac{d}{dt}\\left( \\frac{d \\chi^j}{dt} \\right) = \\\\\n",
    "\\frac{\\partial}{\\partial \\chi^j}\\left( \\frac{\\partial x^i}{\\partial \\chi^k} \\frac{d \\chi^k}{dt}  \\right) \\frac{d \\chi^j}{dt} + \\frac{\\partial x^i}{\\partial \\chi^j} \\frac{d}{dt}\\left( \\frac{d \\chi^j}{dt} \\right) = \n",
    "\\frac{\\partial^2 x^i}{\\partial \\chi^j \\partial \\chi^k}\\left( \\frac{d \\chi^k}{dt}  \\right) \\frac{d \\chi^j}{dt} + \\frac{\\partial x^i}{\\partial \\chi^j} \\frac{d}{dt}\\left( \\frac{d \\chi^j}{dt} \\right) = \n",
    "\\frac{\\partial x^i}{\\partial \\chi^j} \\frac{d^2 \\chi^j}{dt^2} + \\frac{\\partial^2 x^i}{\\partial \\chi^j \\partial \\chi^k}  \\frac{d \\chi^j}{dt}\\frac{d \\chi^k}{dt} = 0\n",
    "$\n",
    "\n",
    "multiplying by the inverse of the coordinate transformation both sides of the equation:\n",
    "\n",
    "$\\frac{d^2 \\chi^l}{dt^2} + \\left( \\frac{\\partial \\chi^l}{\\partial x^i} \\frac{\\partial^2 x^i}{\\partial \\chi^j \\partial \\chi^k}  \\right) \\frac{d \\chi^j}{dt}\\frac{d \\chi^k}{dt} \\equiv \n",
    "\\frac{d^2 \\chi^l}{dt^2} + \\Gamma^l_{jk} \\frac{d \\chi^j}{dt}\\frac{d \\chi^k}{dt} = 0\n",
    "$"
   ]
  },
  {
   "cell_type": "markdown",
   "metadata": {},
   "source": [
    "### Exercise (not for the faint of heart):"
   ]
  },
  {
   "cell_type": "markdown",
   "metadata": {},
   "source": [
    "- Derive the same equations of motion for a free particle in polar coordinates from the geodesic equation"
   ]
  },
  {
   "cell_type": "markdown",
   "metadata": {},
   "source": [
    "Turns out the Christoffel symbols can be written as a function of the metric:\n",
    "\n",
    "$\\Gamma^{\\mu}_{\\alpha \\beta} = \\frac{g^{\\mu \\nu}}{2} \\left(\\frac{\\partial g_{\\alpha \\nu}}{\\partial x^{\\beta}} + \n",
    "\\frac{\\partial g_{\\beta \\nu}}{\\partial x^{\\alpha}} - \\frac{g_{\\alpha \\beta}}{\\partial x^{\\nu}} \\right)\n",
    "$"
   ]
  },
  {
   "cell_type": "markdown",
   "metadata": {},
   "source": [
    "# 2. Einstein's equivalence principle and field equations "
   ]
  },
  {
   "cell_type": "markdown",
   "metadata": {},
   "source": [
    "- So far, this is just calculus\n",
    "- In curve spaces (for instance, the surface of a sphere) we cannot avoid reference frames with basis that depend on position, the equations of motion are then given by the geodesic equation\n",
    "\n",
    "The fact that the coupling of a particle to the gravitational interaction, $m_g$, and the characteristic that defines its response to a force, its inertia $m_i$, are the same (or proportional) is remarkable and unique to gravity."
   ]
  },
  {
   "cell_type": "markdown",
   "metadata": {},
   "source": [
    "That allows for the \"canceling\" out of mass on both sides of the equations of motion. That is, the trajectory of a particle in a gravitational field does not depend on any property of the particle. This equivalence principle allows for geometry to be described purely on geometric terms."
   ]
  },
  {
   "cell_type": "markdown",
   "metadata": {},
   "source": [
    "$G_{\\mu \\nu} \\equiv R_{\\mu \\nu} - \\frac{1}{2}g_{\\mu \\nu} \\mathcal{R}=8 \\pi G T_{\\mu \\nu} \\\\\n",
    "R_{\\mu \\nu} = \\Gamma^{\\alpha}_{\\mu \\nu,\\alpha} - \\Gamma^{\\alpha}_{\\mu \\alpha,\\nu} + \\Gamma^{\\alpha}_{\\beta \\alpha} \\Gamma^{\\beta}_{\\mu \\nu} - \\Gamma^{\\alpha}_{\\beta \\nu} \\Gamma^{\\beta}_{\\nu \\alpha} \\\\\n",
    "\\mathcal{R} \\equiv g^{\\mu \\nu} R_{\\mu \\nu}\n",
    "$"
   ]
  },
  {
   "cell_type": "markdown",
   "metadata": {},
   "source": [
    "# 3. What is the geometry of the universe at large scale? FLRW"
   ]
  },
  {
   "cell_type": "markdown",
   "metadata": {},
   "source": [
    "If we want to apply Einstein's equations to the whole universe, we need its metric, $g_{\\nu \\mu}$"
   ]
  },
  {
   "cell_type": "code",
   "execution_count": 3,
   "metadata": {
    "collapsed": false
   },
   "outputs": [
    {
     "data": {
      "text/html": [
       "<table><tr><td><img src='Aleksandr_Fridman.png'></td><td><img src='lemaitre.jpeg'></td><td><img src='robertson_howard_a1.jpeg'></td><td><img src='Walker_Arthur.jpeg'></td></tr></table>"
      ],
      "text/plain": [
       "<IPython.core.display.HTML object>"
      ]
     },
     "metadata": {},
     "output_type": "display_data"
    }
   ],
   "source": [
    "# Let's look at the faces behind the acronym\n",
    "display(HTML(\"<table><tr><td><img src='Aleksandr_Fridman.png'></td><td><img src='lemaitre.jpeg'></td>\\\n",
    "<td><img src='robertson_howard_a1.jpeg'></td><td><img src='Walker_Arthur.jpeg'></td></tr></table>\"))"
   ]
  },
  {
   "cell_type": "markdown",
   "metadata": {},
   "source": [
    "- Cosmological principle: the universe, on sufficiently large scales, is homogeneous and isotropic\n",
    "- Besides, we know that the universe is expanding -a static universe, with our current physical theories, would be unstable-.\n",
    "- Turns out the only metric that satisfies the symmetries required by the cosmological principle is the FLRW metric:\n",
    "\n",
    "\n",
    "$ds^2=-c^2dt^2 + a(t)\n",
    "^2\\left[ \\frac{dr^2}{\\left( 1-k\\frac{r^2}{R^2} \\right)} + r^2 \\left( d\\theta^2 + \\sin^2 \\theta d\\phi^2 \\right) \\right]$\n",
    "\n",
    "- The same metric can be used to describe a flat (k=0), closed (k=1) or open (k=-1) universe. In the closed and open cases, the metric depends also on the global curvature, R."
   ]
  },
  {
   "cell_type": "markdown",
   "metadata": {},
   "source": [
    "# 4. Applying the Einstein's equations to the FLRW metric: Friedmann equation"
   ]
  },
  {
   "cell_type": "markdown",
   "metadata": {},
   "source": [
    "The proper way to obtain the Friedmann's equation is the following:\n",
    "1. Start with the Einstein's equations\n",
    "\n",
    "$R_{\\mu \\nu} - \\frac{1}{2}g_{\\mu \\nu}R-\\Lambda g_{\\mu \\nu} = \\frac{8\\pi G}{c^4} T_{\\mu \\nu}$\n",
    "\n",
    "2. Work on the LHS of the equation:\n",
    "\n",
    "    1. Compute the Christoffel symbols for the FLRW metric:\n",
    "    \n",
    "    $\\Gamma^t_{rr}, \\Gamma^t_{\\theta\\theta}, ..., \\Gamma^r_{tr}, ...$\n",
    "    \n",
    "    where \n",
    "    \n",
    "    $\\Gamma^\\alpha_{\\beta \\gamma} = \\frac{1}{2}g^{\\alpha \\zeta}\\left(g_{\\zeta \\beta, \\gamma} + g_{\\zeta \\gamma, \\beta} - g_{\\beta \\gamma, \\zeta} \\right)$\n",
    "    \n",
    "    2. Compute the Riemmann tensor...\n",
    "    \n",
    "    $R^{\\alpha}_{\\mu \\rho \\nu} = \\partial_{\\nu} \\Gamma^{\\alpha}_{\\mu \\rho} - \\partial_{\\rho} \\Gamma^{\\alpha}_{\\mu \\nu} + \\Gamma^{\\theta}_{\\mu \\rho} \\Gamma^{\\alpha}_{\\theta \\nu} - \\Gamma^{\\theta}_{\\mu \\nu} \\Gamma^{\\alpha}_{\\theta \\rho}$\n",
    "    \n",
    "    3. ... or directly the Ricci tensor by contraction\n",
    "    \n",
    "    $R_{\\mu \\nu} = R^{\\rho}_{\\mu \\rho \\nu}$\n",
    "    \n",
    "    4. And the Ricci scalar\n",
    "    \n",
    "    $R = g^{\\mu \\nu}R_{\\mu \\nu}=...=-6\\frac{\\ddot{a}}{a} - 6\\left( \\frac{\\dot{a}}{a} \\right)^2 - 6\\frac{1}{\\left( ak \\right)^2}$\n",
    "\n",
    "3. Work on the RHS of the equation:\n",
    "\n",
    "$T^{\\nu}_{\\mu} = T^{\\nu}_{\\mu, M} + T^{\\nu}_{\\mu, DE} = \\left[ \\left(P + \\rho c^2\\right)U_{\\mu}U^{\\mu} + P \\delta^{\\nu}{\\mu}\\right] - \\frac{\\Lambda c^4}{8 \\pi G}\\delta^{\\nu}_{\\mu}$\n",
    "\n",
    "4. Finally, taking the tt component --> $\\ddot{a}$ terms vanish!\n",
    "\n",
    "$\\left( \\frac{\\dot{a}(t)}{a(t)} \\right)^2 = \\frac{8 \\pi G}{3}\\rho\\left[a(t)\\right] - \\frac{kc^2}{R^2a^2(t)} + \\frac{\\Lambda c^2}{3}$"
   ]
  },
  {
   "cell_type": "markdown",
   "metadata": {},
   "source": [
    "# 5. How different components contribute to the energy-density of the universe"
   ]
  },
  {
   "cell_type": "markdown",
   "metadata": {},
   "source": [
    "- Cold (Dark) Matter: its velocity is small compared with $c$, and therefore most of its energy content comes from its rest mass, therefore its energy density gets diluted as the universe expands by the increased volume:\n",
    "\n",
    "$\\rho_{CDM} = \\rho_0 \\left( \\frac{a}{a_0} \\right) ^{-3}$\n",
    "\n",
    "- Hot matter / radiation: its velocity is of the same order as $c$, and therefore its momentum contributes to its energy content in an non-negligible way. Its energy density gets diluted as the universe expands by the increased volume and it gets redshifted as well\n",
    "\n",
    "$\\rho_{RAD} = \\rho_0 \\left( \\frac{a}{a_0} \\right) ^{-4}$"
   ]
  },
  {
   "cell_type": "markdown",
   "metadata": {},
   "source": [
    "Note that curved space manifests itself as yet another component, that gets diluted less quickly than cold matter, and that a cosmological constant, as its name indicates, is not diluted at all\n",
    "\n",
    "$\\rho_{k} = -\\frac{kc^2}{R^2}\\left(a\\right)^{-2}$\n",
    "\n",
    "$\\rho_{\\Lambda} = \\frac{\\Lambda c^2}{3} \\left( a \\right) ^0$"
   ]
  },
  {
   "cell_type": "markdown",
   "metadata": {},
   "source": [
    "We see that different components' energy density evolve at different rates as the universe expands, which means that the energy budget, and the universe's dynamics, is dominated by different components at different cosmic epochs:"
   ]
  },
  {
   "cell_type": "code",
   "execution_count": 13,
   "metadata": {
    "collapsed": false
   },
   "outputs": [
    {
     "data": {
      "text/plain": [
       "<matplotlib.text.Text at 0x111b11e90>"
      ]
     },
     "execution_count": 13,
     "metadata": {},
     "output_type": "execute_result"
    },
    {
     "data": {
      "image/png": "[encoded data removed]",
      "text/plain": [
       "<matplotlib.figure.Figure at 0x1118ed990>"
      ]
     },
     "metadata": {},
     "output_type": "display_data"
    }
   ],
   "source": [
    "a = np.linspace(0.001,1,100)\n",
    "rho_cdm = 0.20 * a**-3\n",
    "rho_rad = 0.05 * a**-4\n",
    "rho_lam = 0.75 * a**0\n",
    "rho_k   = 0.010 * a**-2\n",
    "\n",
    "plt.plot(a, rho_cdm, 'b', label='$CDM$')\n",
    "plt.plot(a, rho_rad, 'r', label='$Radiation$')\n",
    "plt.plot(a, rho_lam, 'g', label='$\\Lambda$')\n",
    "plt.plot(a, rho_k,   'y', label='$k$')\n",
    "#plt.ylim((0.0,10.0))\n",
    "#plt.xscale('log')\n",
    "plt.yscale('log')\n",
    "plt.legend()\n",
    "plt.xlabel('$a$')\n",
    "plt.ylabel('$Density$')"
   ]
  },
  {
   "cell_type": "code",
   "execution_count": null,
   "metadata": {
    "collapsed": true
   },
   "outputs": [],
   "source": []
  },
  {
   "cell_type": "markdown",
   "metadata": {},
   "source": [
    "# 6. Solving some easy cases analytically"
   ]
  },
  {
   "cell_type": "markdown",
   "metadata": {},
   "source": [
    "Taking $a_0=1$, we can then write the full Friedmann equation as:\n",
    "\n",
    "$\\left(\\frac{da}{dt}\\right)^2 = \\frac{8\\pi G \\rho_{M0}}{3} \\frac{1}{a} + \\frac{8\\pi G \\rho_{R0}}{3} \\frac{1}{a^2} - \\frac{kc^2}{R^2} + \\frac{\\Lambda c^2}{3} a^2$\n",
    "\n",
    "Note that the RHS of the equation can be zero only if $k=1$, that means, that if the universe was expanding at some point in the past, ONLY positively curved universes will see their expansion stopped at some point in the future."
   ]
  },
  {
   "cell_type": "markdown",
   "metadata": {},
   "source": [
    "### 6.1 Cold-dark matter dominated"
   ]
  },
  {
   "cell_type": "markdown",
   "metadata": {},
   "source": [
    "When the energy budget of the universe is dominated by cold matter, the equation is also easily solvable:\n",
    "\n",
    "$\\frac{da}{dt} =  \\sqrt{\\frac{8\\pi G \\rho_{R0}}{3}} \\frac{1}{\\sqrt{a}} \\Rightarrow \\int^{a}_{0} da \\, a^{\\frac{1}{2}} = \\sqrt{\\frac{8\\pi G \\rho_{R0}}{3}} \\int^{t}_{0}dt \\Rightarrow a^{\\frac{3}{2}} = \\frac{3}{2} \\sqrt{\\frac{8\\pi G \\rho_{R0}}{3}} t \\Rightarrow a \\propto t^{\\frac{2}{3}}$"
   ]
  },
  {
   "cell_type": "code",
   "execution_count": 18,
   "metadata": {
    "collapsed": false
   },
   "outputs": [
    {
     "data": {
      "text/plain": [
       "<matplotlib.text.Text at 0x112f5a950>"
      ]
     },
     "execution_count": 18,
     "metadata": {},
     "output_type": "execute_result"
    },
    {
     "data": {
      "image/png": "[encoded data removed]",
      "text/plain": [
       "<matplotlib.figure.Figure at 0x112c19d10>"
      ]
     },
     "metadata": {},
     "output_type": "display_data"
    }
   ],
   "source": [
    "t = np.linspace(0,1,100)\n",
    "a_cm  = t ** (2.0/3)\n",
    "\n",
    "plt.plot(t, a_cm,  'b', label='$CDM$')\n",
    "#plt.xscale('log')\n",
    "#plt.yscale('log')\n",
    "plt.legend()\n",
    "plt.xlabel('t')\n",
    "plt.ylabel('a')"
   ]
  },
  {
   "cell_type": "markdown",
   "metadata": {},
   "source": [
    "### 6.2 Radiation-dominated universe"
   ]
  },
  {
   "cell_type": "markdown",
   "metadata": {},
   "source": [
    "In a radiation-dominated universe, the Friedmann equation is very simple\n",
    "\n",
    "$\\frac{da}{dt} =  \\sqrt{\\frac{8\\pi G \\rho_{R0}}{3}} \\frac{1}{a}$\n",
    "\n",
    "and can be integrated analytically\n",
    "\n",
    "$\\int^{a}_{0} da \\, a = \\sqrt{\\frac{8\\pi G \\rho_{R0}}{3}} \\int^{t}_{0} dt \\Rightarrow a = \\sqrt{2\\sqrt{\\frac{8\\pi G \\rho_{R0}}{3}}} \\sqrt{t} \\Rightarrow a \\propto t^{\\frac{1}{2}}$"
   ]
  },
  {
   "cell_type": "code",
   "execution_count": 22,
   "metadata": {
    "collapsed": false
   },
   "outputs": [
    {
     "data": {
      "text/plain": [
       "<matplotlib.text.Text at 0x1139cb990>"
      ]
     },
     "execution_count": 22,
     "metadata": {},
     "output_type": "execute_result"
    },
    {
     "data": {
      "image/png": "[encoded data removed]",
      "text/plain": [
       "<matplotlib.figure.Figure at 0x11361e7d0>"
      ]
     },
     "metadata": {},
     "output_type": "display_data"
    }
   ],
   "source": [
    "t = np.linspace(0,1,100)\n",
    "a_cm  = t ** (2.0/3)\n",
    "a_rad = t ** 0.5\n",
    "\n",
    "plt.plot(t, a_cm,  'b', label='$CDM$')\n",
    "plt.plot(t, a_rad, 'r', label='$Rad$')\n",
    "#plt.xscale('log')\n",
    "#plt.yscale('log')\n",
    "plt.legend()\n",
    "plt.xlabel('t')\n",
    "plt.ylabel('a')"
   ]
  },
  {
   "cell_type": "markdown",
   "metadata": {},
   "source": [
    "### 6.3 Cosmological-constant-dominated universe"
   ]
  },
  {
   "cell_type": "markdown",
   "metadata": {},
   "source": [
    "The last simplified case we will use now is one that is dominated by DE:\n",
    "\n",
    "$\\frac{da}{dt} =  \\sqrt{\\frac{\\Lambda c^2}{3}} a \\Rightarrow \\int^{a}_{0}\\frac{da}{a} = \\sqrt{\\frac{\\Lambda c^2}{3}} \\int^{t}_0 dt \\Rightarrow a = \\exp{\\sqrt{\\frac{\\Lambda c^2}{3}} t}$"
   ]
  },
  {
   "cell_type": "code",
   "execution_count": 28,
   "metadata": {
    "collapsed": false
   },
   "outputs": [
    {
     "data": {
      "text/plain": [
       "<matplotlib.text.Text at 0x114688c90>"
      ]
     },
     "execution_count": 28,
     "metadata": {},
     "output_type": "execute_result"
    },
    {
     "data": {
      "image/png": "[encoded data removed]",
      "text/plain": [
       "<matplotlib.figure.Figure at 0x114591150>"
      ]
     },
     "metadata": {},
     "output_type": "display_data"
    }
   ],
   "source": [
    "t = np.linspace(0,1,100)\n",
    "a_cm  = t ** (2.0/3)\n",
    "a_rad = t ** 0.5\n",
    "a_lambda = np.exp(t) / np.exp(1.0)\n",
    "\n",
    "plt.plot(t, a_cm,  'b', label='$CDM$')\n",
    "plt.plot(t, a_rad, 'r', label='$Rad$')\n",
    "plt.plot(t, a_lambda, 'g', label='$\\Lambda$')\n",
    "#plt.xscale('log')\n",
    "#plt.yscale('log')\n",
    "plt.legend(loc=4)\n",
    "plt.xlabel('t')\n",
    "plt.ylabel('a')"
   ]
  },
  {
   "cell_type": "markdown",
   "metadata": {},
   "source": [
    "# 7. Solving a more realistic case numerically"
   ]
  },
  {
   "cell_type": "markdown",
   "metadata": {},
   "source": [
    "The full Friedmann equation is more complicated, and has no analytical solution\n",
    "\n",
    "$\\frac{da}{dt} = \\sqrt{\\frac{8\\pi G \\rho_{M0}}{3} \\frac{1}{a} + \\frac{8\\pi G \\rho_{R0}}{3} \\frac{1}{a^2} + \\frac{\\Lambda c^2}{3} a^2}$"
   ]
  },
  {
   "cell_type": "markdown",
   "metadata": {},
   "source": [
    "In general, we can solve these equations relatively easily numerically. We can do so by transforming a differential equation into a differences equation:\n",
    "\n",
    "$\\frac{da}{dt} = f(a)$\n",
    "\n",
    "$\\frac{da}{dt} \\approx \\frac{f(a_{i}) - f(a_{i-1})}{t_{i} - t_{i-1}}$\n",
    "\n",
    "We only need an initial condition to start, in our case $a=1$\n",
    "\n",
    "$f(a_{i-1}) = f(a_i) - \\frac{da}{dt} * (t_i - t_{i-1})$"
   ]
  },
  {
   "cell_type": "code",
   "execution_count": 29,
   "metadata": {
    "collapsed": true
   },
   "outputs": [],
   "source": [
    "def H(a, omega_m, omega_r, omega_l):\n",
    "    return np.max((omega_m / a + omega_r / a**2 + omega_l * a**2)**0.5,0)\n",
    "\n",
    "def step(a,dt,function,omega_m,omega_r,omega_l):\n",
    "    slope = function(a,omega_m,omega_r,omega_l)\n",
    "    return a - slope * dt\n",
    "\n",
    "def intFLRW(dt,n,omega_m, omega_r, omega_l):\n",
    "    a = []\n",
    "    old_a = 1.0\n",
    "    a.append(old_a)\n",
    "    new_a = old_a\n",
    "    for i in range(n):\n",
    "        new_a = step(old_a,dt,H,omega_m,omega_r,omega_l)\n",
    "        a.append(new_a)\n",
    "        old_a = new_a\n",
    "    return np.linspace(0,n*dt,n+1), np.array(a)"
   ]
  },
  {
   "cell_type": "code",
   "execution_count": 31,
   "metadata": {
    "collapsed": false
   },
   "outputs": [
    {
     "name": "stderr",
     "output_type": "stream",
     "text": [
      "/Users/jzorrilla/Programs/anaconda/lib/python2.7/site-packages/ipykernel/__main__.py:2: RuntimeWarning: invalid value encountered in double_scalars\n",
      "  from ipykernel import kernelapp as app\n"
     ]
    },
    {
     "data": {
      "text/plain": [
       "<matplotlib.text.Text at 0x1149c8890>"
      ]
     },
     "execution_count": 31,
     "metadata": {},
     "output_type": "execute_result"
    },
    {
     "data": {
      "image/png": "[encoded data removed]",
      "text/plain": [
       "<matplotlib.figure.Figure at 0x114102c90>"
      ]
     },
     "metadata": {},
     "output_type": "display_data"
    }
   ],
   "source": [
    "t1, a1 = intFLRW(0.01, 100, omega_m=0.20, omega_r=0.05, omega_l=0.75)\n",
    "t2, a2 = intFLRW(0.01, 100, omega_m=0.95, omega_r=0.05, omega_l=0.00)\n",
    "\n",
    "plt.plot(-t1,a1,'b')\n",
    "plt.plot(-t2,a2,'r')\n",
    "plt.ylim((0.0,1.0))\n",
    "plt.xlabel('t')\n",
    "plt.ylabel('a')"
   ]
  }
 ],
 "metadata": {
  "kernelspec": {
   "display_name": "Python 2",
   "language": "python",
   "name": "python2"
  },
  "language_info": {
   "codemirror_mode": {
    "name": "ipython",
    "version": 2
   },
   "file_extension": ".py",
   "mimetype": "text/x-python",
   "name": "python",
   "nbconvert_exporter": "python",
   "pygments_lexer": "ipython2",
   "version": "2.7.12"
  }
 },
 "nbformat": 4,
 "nbformat_minor": 2
}
